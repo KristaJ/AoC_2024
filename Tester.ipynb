{
 "cells": [
  {
   "cell_type": "code",
   "execution_count": 6,
   "id": "9484addb-85f4-41b4-a30e-c380c91a42e6",
   "metadata": {},
   "outputs": [
    {
     "name": "stdout",
     "output_type": "stream",
     "text": [
      "The autoreload extension is already loaded. To reload it, use:\n",
      "  %reload_ext autoreload\n"
     ]
    }
   ],
   "source": [
    "import aoc_2024 as ac\n",
    "\n",
    "%load_ext autoreload\n",
    "%autoreload 2"
   ]
  },
  {
   "cell_type": "code",
   "execution_count": 228,
   "id": "27f80602-b0cc-4b30-b587-2b3cf415a1f9",
   "metadata": {},
   "outputs": [
    {
     "name": "stdout",
     "output_type": "stream",
     "text": [
      "day 7, part 1: 4122618559853\n",
      "day 7, part 2: 227615740238334\n"
     ]
    }
   ],
   "source": [
    "d7 = ac.day7(\"./Data/day7_2024.txt\")\n",
    "print(f'day 7, part 1: {d7.solution1}')\n",
    "print(f'day 7, part 2: {d7.solution2}')"
   ]
  },
  {
   "cell_type": "code",
   "execution_count": null,
   "id": "770646b1-7dfe-40dc-adbd-9252f8eaf9be",
   "metadata": {},
   "outputs": [],
   "source": []
  }
 ],
 "metadata": {
  "kernelspec": {
   "display_name": "Python 3 (ipykernel)",
   "language": "python",
   "name": "python3"
  },
  "language_info": {
   "codemirror_mode": {
    "name": "ipython",
    "version": 3
   },
   "file_extension": ".py",
   "mimetype": "text/x-python",
   "name": "python",
   "nbconvert_exporter": "python",
   "pygments_lexer": "ipython3",
   "version": "3.12.3"
  }
 },
 "nbformat": 4,
 "nbformat_minor": 5
}
